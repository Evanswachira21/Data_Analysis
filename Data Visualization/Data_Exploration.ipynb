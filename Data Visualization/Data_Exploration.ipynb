{
 "cells": [
  {
   "cell_type": "markdown",
   "id": "889a274b-e35c-4a4a-b05e-5152d84ad16b",
   "metadata": {},
   "source": [
    "# Data Exploration"
   ]
  },
  {
   "cell_type": "code",
   "execution_count": null,
   "id": "97e4fe6e-f145-44c8-93c3-b1a6271fe306",
   "metadata": {},
   "outputs": [],
   "source": []
  },
  {
   "cell_type": "code",
   "execution_count": 1,
   "id": "9d541cdd-b975-4cd3-ac89-9130bff1f479",
   "metadata": {},
   "outputs": [
    {
     "ename": "FileNotFoundError",
     "evalue": "[Errno 2] No such file or directory: 'KRA_Sample_Dataset.xlsx'",
     "output_type": "error",
     "traceback": [
      "\u001b[1;31m---------------------------------------------------------------------------\u001b[0m",
      "\u001b[1;31mFileNotFoundError\u001b[0m                         Traceback (most recent call last)",
      "Cell \u001b[1;32mIn[1], line 4\u001b[0m\n\u001b[0;32m      1\u001b[0m \u001b[38;5;28;01mimport\u001b[39;00m \u001b[38;5;21;01mpandas\u001b[39;00m \u001b[38;5;28;01mas\u001b[39;00m \u001b[38;5;21;01mpd\u001b[39;00m\n\u001b[0;32m      3\u001b[0m \u001b[38;5;66;03m# Load an Excel file\u001b[39;00m\n\u001b[1;32m----> 4\u001b[0m df \u001b[38;5;241m=\u001b[39m pd\u001b[38;5;241m.\u001b[39mread_excel(\u001b[38;5;124m\"\u001b[39m\u001b[38;5;124mKRA_Sample_Dataset.xlsx\u001b[39m\u001b[38;5;124m\"\u001b[39m, sheet_name\u001b[38;5;241m=\u001b[39m\u001b[38;5;124m\"\u001b[39m\u001b[38;5;124mSheet1\u001b[39m\u001b[38;5;124m\"\u001b[39m)\n\u001b[0;32m      6\u001b[0m \u001b[38;5;66;03m# Display first few rows\u001b[39;00m\n\u001b[0;32m      7\u001b[0m \u001b[38;5;28mprint\u001b[39m(df\u001b[38;5;241m.\u001b[39mhead())\n",
      "File \u001b[1;32mC:\\ProgramData\\anaconda3\\Lib\\site-packages\\pandas\\io\\excel\\_base.py:478\u001b[0m, in \u001b[0;36mread_excel\u001b[1;34m(io, sheet_name, header, names, index_col, usecols, dtype, engine, converters, true_values, false_values, skiprows, nrows, na_values, keep_default_na, na_filter, verbose, parse_dates, date_parser, date_format, thousands, decimal, comment, skipfooter, storage_options, dtype_backend)\u001b[0m\n\u001b[0;32m    476\u001b[0m \u001b[38;5;28;01mif\u001b[39;00m \u001b[38;5;129;01mnot\u001b[39;00m \u001b[38;5;28misinstance\u001b[39m(io, ExcelFile):\n\u001b[0;32m    477\u001b[0m     should_close \u001b[38;5;241m=\u001b[39m \u001b[38;5;28;01mTrue\u001b[39;00m\n\u001b[1;32m--> 478\u001b[0m     io \u001b[38;5;241m=\u001b[39m ExcelFile(io, storage_options\u001b[38;5;241m=\u001b[39mstorage_options, engine\u001b[38;5;241m=\u001b[39mengine)\n\u001b[0;32m    479\u001b[0m \u001b[38;5;28;01melif\u001b[39;00m engine \u001b[38;5;129;01mand\u001b[39;00m engine \u001b[38;5;241m!=\u001b[39m io\u001b[38;5;241m.\u001b[39mengine:\n\u001b[0;32m    480\u001b[0m     \u001b[38;5;28;01mraise\u001b[39;00m \u001b[38;5;167;01mValueError\u001b[39;00m(\n\u001b[0;32m    481\u001b[0m         \u001b[38;5;124m\"\u001b[39m\u001b[38;5;124mEngine should not be specified when passing \u001b[39m\u001b[38;5;124m\"\u001b[39m\n\u001b[0;32m    482\u001b[0m         \u001b[38;5;124m\"\u001b[39m\u001b[38;5;124man ExcelFile - ExcelFile already has the engine set\u001b[39m\u001b[38;5;124m\"\u001b[39m\n\u001b[0;32m    483\u001b[0m     )\n",
      "File \u001b[1;32mC:\\ProgramData\\anaconda3\\Lib\\site-packages\\pandas\\io\\excel\\_base.py:1496\u001b[0m, in \u001b[0;36mExcelFile.__init__\u001b[1;34m(self, path_or_buffer, engine, storage_options)\u001b[0m\n\u001b[0;32m   1494\u001b[0m     ext \u001b[38;5;241m=\u001b[39m \u001b[38;5;124m\"\u001b[39m\u001b[38;5;124mxls\u001b[39m\u001b[38;5;124m\"\u001b[39m\n\u001b[0;32m   1495\u001b[0m \u001b[38;5;28;01melse\u001b[39;00m:\n\u001b[1;32m-> 1496\u001b[0m     ext \u001b[38;5;241m=\u001b[39m inspect_excel_format(\n\u001b[0;32m   1497\u001b[0m         content_or_path\u001b[38;5;241m=\u001b[39mpath_or_buffer, storage_options\u001b[38;5;241m=\u001b[39mstorage_options\n\u001b[0;32m   1498\u001b[0m     )\n\u001b[0;32m   1499\u001b[0m     \u001b[38;5;28;01mif\u001b[39;00m ext \u001b[38;5;129;01mis\u001b[39;00m \u001b[38;5;28;01mNone\u001b[39;00m:\n\u001b[0;32m   1500\u001b[0m         \u001b[38;5;28;01mraise\u001b[39;00m \u001b[38;5;167;01mValueError\u001b[39;00m(\n\u001b[0;32m   1501\u001b[0m             \u001b[38;5;124m\"\u001b[39m\u001b[38;5;124mExcel file format cannot be determined, you must specify \u001b[39m\u001b[38;5;124m\"\u001b[39m\n\u001b[0;32m   1502\u001b[0m             \u001b[38;5;124m\"\u001b[39m\u001b[38;5;124man engine manually.\u001b[39m\u001b[38;5;124m\"\u001b[39m\n\u001b[0;32m   1503\u001b[0m         )\n",
      "File \u001b[1;32mC:\\ProgramData\\anaconda3\\Lib\\site-packages\\pandas\\io\\excel\\_base.py:1371\u001b[0m, in \u001b[0;36minspect_excel_format\u001b[1;34m(content_or_path, storage_options)\u001b[0m\n\u001b[0;32m   1368\u001b[0m \u001b[38;5;28;01mif\u001b[39;00m \u001b[38;5;28misinstance\u001b[39m(content_or_path, \u001b[38;5;28mbytes\u001b[39m):\n\u001b[0;32m   1369\u001b[0m     content_or_path \u001b[38;5;241m=\u001b[39m BytesIO(content_or_path)\n\u001b[1;32m-> 1371\u001b[0m \u001b[38;5;28;01mwith\u001b[39;00m get_handle(\n\u001b[0;32m   1372\u001b[0m     content_or_path, \u001b[38;5;124m\"\u001b[39m\u001b[38;5;124mrb\u001b[39m\u001b[38;5;124m\"\u001b[39m, storage_options\u001b[38;5;241m=\u001b[39mstorage_options, is_text\u001b[38;5;241m=\u001b[39m\u001b[38;5;28;01mFalse\u001b[39;00m\n\u001b[0;32m   1373\u001b[0m ) \u001b[38;5;28;01mas\u001b[39;00m handle:\n\u001b[0;32m   1374\u001b[0m     stream \u001b[38;5;241m=\u001b[39m handle\u001b[38;5;241m.\u001b[39mhandle\n\u001b[0;32m   1375\u001b[0m     stream\u001b[38;5;241m.\u001b[39mseek(\u001b[38;5;241m0\u001b[39m)\n",
      "File \u001b[1;32mC:\\ProgramData\\anaconda3\\Lib\\site-packages\\pandas\\io\\common.py:868\u001b[0m, in \u001b[0;36mget_handle\u001b[1;34m(path_or_buf, mode, encoding, compression, memory_map, is_text, errors, storage_options)\u001b[0m\n\u001b[0;32m    859\u001b[0m         handle \u001b[38;5;241m=\u001b[39m \u001b[38;5;28mopen\u001b[39m(\n\u001b[0;32m    860\u001b[0m             handle,\n\u001b[0;32m    861\u001b[0m             ioargs\u001b[38;5;241m.\u001b[39mmode,\n\u001b[1;32m   (...)\u001b[0m\n\u001b[0;32m    864\u001b[0m             newline\u001b[38;5;241m=\u001b[39m\u001b[38;5;124m\"\u001b[39m\u001b[38;5;124m\"\u001b[39m,\n\u001b[0;32m    865\u001b[0m         )\n\u001b[0;32m    866\u001b[0m     \u001b[38;5;28;01melse\u001b[39;00m:\n\u001b[0;32m    867\u001b[0m         \u001b[38;5;66;03m# Binary mode\u001b[39;00m\n\u001b[1;32m--> 868\u001b[0m         handle \u001b[38;5;241m=\u001b[39m \u001b[38;5;28mopen\u001b[39m(handle, ioargs\u001b[38;5;241m.\u001b[39mmode)\n\u001b[0;32m    869\u001b[0m     handles\u001b[38;5;241m.\u001b[39mappend(handle)\n\u001b[0;32m    871\u001b[0m \u001b[38;5;66;03m# Convert BytesIO or file objects passed with an encoding\u001b[39;00m\n",
      "\u001b[1;31mFileNotFoundError\u001b[0m: [Errno 2] No such file or directory: 'KRA_Sample_Dataset.xlsx'"
     ]
    }
   ],
   "source": [
    "import pandas as pd\n",
    "\n",
    "# Load an Excel file\n",
    "df = pd.read_excel(\"KRA_Sample_Dataset.xlsx\", sheet_name=\"Sheet1\")\n",
    "\n",
    "# Display first few rows\n",
    "print(df.head())\n"
   ]
  },
  {
   "cell_type": "code",
   "execution_count": null,
   "id": "76b0784f-28f2-494d-81d5-20721abdfa73",
   "metadata": {},
   "outputs": [],
   "source": [
    "# Display the last few rows\n",
    "print(df.tail())"
   ]
  },
  {
   "cell_type": "code",
   "execution_count": null,
   "id": "dd9a08d4-2b03-4b5c-86e7-2d8c91e70a71",
   "metadata": {},
   "outputs": [],
   "source": [
    "# Geting basic information\n",
    "print (df.info())"
   ]
  },
  {
   "cell_type": "code",
   "execution_count": null,
   "id": "55d32f5a-4900-406e-941d-7b0feeaa657b",
   "metadata": {},
   "outputs": [],
   "source": [
    "# Statistics summary\n",
    "print(df.describe())"
   ]
  },
  {
   "cell_type": "code",
   "execution_count": null,
   "id": "7715c7fa-d92a-4ee8-8be2-fdc2f35a4dd9",
   "metadata": {},
   "outputs": [],
   "source": [
    "# Rows and columns count\n",
    "print(df.shape)"
   ]
  },
  {
   "cell_type": "code",
   "execution_count": null,
   "id": "30816a7d-7769-4869-a3f3-bace2cb002a8",
   "metadata": {},
   "outputs": [],
   "source": [
    "# List column names\n",
    "print(df.columns)"
   ]
  },
  {
   "cell_type": "code",
   "execution_count": null,
   "id": "e45d5b0f-3649-4150-a84c-a795f8a43a76",
   "metadata": {},
   "outputs": [],
   "source": [
    "# Data types of each column\n",
    "print (df.dtypes)"
   ]
  },
  {
   "cell_type": "code",
   "execution_count": null,
   "id": "c42f7ba6-2b59-4dc1-b255-4488eb318ca2",
   "metadata": {},
   "outputs": [],
   "source": [
    "# Count of unique values per categorical column\n",
    "categorical_columns = [\"region\", \"sector\", \"taxpayer_type\", \"compliance_status\"]\n",
    "for col in categorical_columns:\n",
    "    print(f\"\\nUnique values in {col}:\")\n",
    "    print(df[col].value_counts())"
   ]
  },
  {
   "cell_type": "markdown",
   "id": "9fd1f697-b8ee-4ed5-9642-693248c662f2",
   "metadata": {},
   "source": [
    "# Selecting and filtering Data"
   ]
  },
  {
   "cell_type": "code",
   "execution_count": null,
   "id": "e35d5c9c-1583-4fe4-8889-fdc3466574d6",
   "metadata": {},
   "outputs": [],
   "source": [
    "# Select columns\n",
    "print (df['tax_paid'])\n",
    "df2 = (df['tax_paid'])"
   ]
  },
  {
   "cell_type": "code",
   "execution_count": null,
   "id": "f08837b4-c471-40d8-bf6c-5bcf275c76c8",
   "metadata": {},
   "outputs": [],
   "source": [
    "# Select multiple columns\n",
    "df3 = df[['tax_paid','region']]\n",
    "print(df3)"
   ]
  },
  {
   "cell_type": "code",
   "execution_count": null,
   "id": "5e56738b-d888-429d-954b-32ccd3af3753",
   "metadata": {},
   "outputs": [],
   "source": [
    "# Select row by index label \n",
    "print(df.loc[200])"
   ]
  },
  {
   "cell_type": "code",
   "execution_count": null,
   "id": "eac7793f-5fa9-4eae-a6d7-75b493ecd640",
   "metadata": {},
   "outputs": [],
   "source": [
    "# Select row by integer position\n",
    "print(df.iloc[200])"
   ]
  },
  {
   "cell_type": "markdown",
   "id": "1b951f42-832f-467e-aa8d-f42be08d7f10",
   "metadata": {},
   "source": [
    "# Filtering and Sorting"
   ]
  },
  {
   "cell_type": "code",
   "execution_count": null,
   "id": "f2588a84-2704-4474-8c1e-0e65566a3dfe",
   "metadata": {},
   "outputs": [],
   "source": [
    "# taxpayers who paid more than KES 200,000\n",
    "high_tax_payers = df[df[\"tax_paid\"] > 200000] \n",
    "high_tax_payers.head()"
   ]
  },
  {
   "cell_type": "code",
   "execution_count": null,
   "id": "dfae00bb-02aa-4dd2-bac4-fed9f7a6344e",
   "metadata": {},
   "outputs": [],
   "source": [
    "high_tax_payers.tail()"
   ]
  },
  {
   "cell_type": "code",
   "execution_count": null,
   "id": "737c2774-f601-4fef-8222-e918a791c4b9",
   "metadata": {},
   "outputs": [],
   "source": [
    "high_tax_payers.shape"
   ]
  },
  {
   "cell_type": "code",
   "execution_count": null,
   "id": "1b8e30aa-4728-42e7-ade6-fd9c9cf3bcf6",
   "metadata": {},
   "outputs": [],
   "source": [
    "# Sorting by tax paid\n",
    "sorted_tax_payers = df.sort_values(by=\"tax_paid\", ascending=False)  \n",
    "sorted_tax_payers.head()"
   ]
  },
  {
   "cell_type": "code",
   "execution_count": null,
   "id": "44a40726-153e-48b3-ae9f-43518a0ceac8",
   "metadata": {},
   "outputs": [],
   "source": [
    "sorted_tax_payers.tail()"
   ]
  },
  {
   "cell_type": "markdown",
   "id": "16a12d7c-4a56-4342-a41e-8c771397a5b1",
   "metadata": {},
   "source": [
    "# String Operations on Data"
   ]
  },
  {
   "cell_type": "code",
   "execution_count": null,
   "id": "3c4ccd92-5546-43f8-a4b7-ca05944140dc",
   "metadata": {},
   "outputs": [],
   "source": [
    "# Convert names to uppercase\n",
    "df[\"taxpayer_name\"] = df[\"taxpayer_name\"].str.upper()  "
   ]
  },
  {
   "cell_type": "code",
   "execution_count": null,
   "id": "73754817-91f6-442a-bf5e-c64f7a785cc2",
   "metadata": {},
   "outputs": [],
   "source": [
    "# Extract numeric part of ID\n",
    "df_kra[\"taxpayer_pin\"] = df_kra[\"taxpayer_id\"].str.extract(r'KE(\\d+)')  "
   ]
  },
  {
   "cell_type": "markdown",
   "id": "c05930d9-6d08-4053-98fc-8846e24dc06b",
   "metadata": {},
   "source": [
    "# Changing Data Types"
   ]
  },
  {
   "cell_type": "code",
   "execution_count": null,
   "id": "f9b86a9c-f55b-4f0c-bccc-10ccc98ba76f",
   "metadata": {},
   "outputs": [],
   "source": [
    " # Convert to datetime\n",
    "\n",
    "df[\"registration_date\"] = pd.to_datetime(df[\"registration_date\"]) "
   ]
  },
  {
   "cell_type": "code",
   "execution_count": null,
   "id": "18229e83-c663-405b-9a9b-8bf3a900dad2",
   "metadata": {},
   "outputs": [],
   "source": []
  },
  {
   "cell_type": "markdown",
   "id": "0b3c7d3e-8aa2-4527-ac26-770ddbd06942",
   "metadata": {},
   "source": [
    "# Handling Missing Values"
   ]
  },
  {
   "cell_type": "code",
   "execution_count": null,
   "id": "76bd4e31-7273-4675-a905-bf2829457d5a",
   "metadata": {},
   "outputs": [],
   "source": [
    "# Check missing values\n",
    "missing_values = df.isnull().sum()\n",
    "missing_values"
   ]
  },
  {
   "cell_type": "code",
   "execution_count": null,
   "id": "167c2262-a03d-4e23-84d5-6a63cd288147",
   "metadata": {},
   "outputs": [],
   "source": [
    "# Fill missing tax values with median\n",
    "df[\"tax_paid\"].fillna(df[\"tax_paid\"].median(), inplace=True)  "
   ]
  },
  {
   "cell_type": "markdown",
   "id": "bf854f7b-51f6-4b87-aa01-025eb226bfd7",
   "metadata": {},
   "source": [
    "# Handling Duplicates"
   ]
  },
  {
   "cell_type": "code",
   "execution_count": null,
   "id": "d0851ee3-f771-4b3f-bb96-69ffe7b5d2c1",
   "metadata": {},
   "outputs": [],
   "source": [
    "# Count duplicates\n",
    "duplicate_count = df.duplicated().sum()  \n",
    "duplicate_count"
   ]
  },
  {
   "cell_type": "code",
   "execution_count": null,
   "id": "e64b6cf8-f6b7-4acb-bda8-23d1d12f76d4",
   "metadata": {},
   "outputs": [],
   "source": [
    "# Remove duplicates by taxpayer_id\n",
    "df.drop_duplicates(subset=[\"taxpayer_id\"], keep=\"first\", inplace=True)  "
   ]
  },
  {
   "cell_type": "code",
   "execution_count": null,
   "id": "7e6a8a41-6c49-419e-92a9-268ebf72993d",
   "metadata": {},
   "outputs": [],
   "source": []
  },
  {
   "cell_type": "markdown",
   "id": "f467889e-ae59-4ba3-b2c5-4c626e5fabce",
   "metadata": {},
   "source": [
    "# Aggregating Data"
   ]
  },
  {
   "cell_type": "code",
   "execution_count": null,
   "id": "ee83a497-507d-47a7-8b0b-226d6d3eedab",
   "metadata": {},
   "outputs": [],
   "source": [
    "# Total tax per region\n",
    "tax_per_region = df.groupby(\"region\")[\"tax_paid\"].sum()  \n",
    "tax_per_region"
   ]
  },
  {
   "cell_type": "code",
   "execution_count": null,
   "id": "e959de09-f9eb-4823-8f4a-8d11e048069c",
   "metadata": {},
   "outputs": [],
   "source": [
    "pd.DataFrame.groupby?"
   ]
  },
  {
   "cell_type": "code",
   "execution_count": null,
   "id": "17c99e84-5981-4908-95cb-77f94589caa2",
   "metadata": {},
   "outputs": [],
   "source": [
    "# Average VAT per sector\n",
    "avg_vat_per_sector = df.groupby(\"sector\")[\"VAT_paid\"].mean() \n",
    "avg_vat_per_sector"
   ]
  },
  {
   "cell_type": "code",
   "execution_count": null,
   "id": "770261ad-75c5-4a14-a9b3-3e07f9288bfd",
   "metadata": {},
   "outputs": [],
   "source": [
    "\n",
    "# Count taxpayers per region\n",
    "taxpayer_count = df.groupby(\"region\")[\"taxpayer_id\"].count() \n",
    "taxpayer_count"
   ]
  },
  {
   "cell_type": "code",
   "execution_count": null,
   "id": "eac79e18-d4ce-4b74-9c58-83b8e9ceba28",
   "metadata": {},
   "outputs": [],
   "source": []
  },
  {
   "cell_type": "markdown",
   "id": "e8bd8b12-12a3-417a-a9ec-9f8e7aa154b5",
   "metadata": {},
   "source": [
    "# Merging Datasets"
   ]
  },
  {
   "cell_type": "code",
   "execution_count": null,
   "id": "0a216e56-3c6d-4998-a46d-01e5ecdf0765",
   "metadata": {},
   "outputs": [],
   "source": [
    " # Sample dataset\n",
    "df_tax_compliance = df[[\"taxpayer_id\", \"compliance_status\"]].sample(frac=1).reset_index(drop=True) \n",
    "df_tax_compliance"
   ]
  },
  {
   "cell_type": "code",
   "execution_count": null,
   "id": "d1b1fae3-5908-41d1-9b0e-653a2272bf34",
   "metadata": {},
   "outputs": [],
   "source": [
    "# Merge datasets\n",
    "df_merged = pd.merge(df, df_tax_compliance, on=\"taxpayer_id\", how=\"inner\", suffixes=(\"_orig\", \"_compliance\"))  \n",
    "df_merged"
   ]
  },
  {
   "cell_type": "markdown",
   "id": "2b9eb4bb-5eef-427a-be2c-7b84599f7b94",
   "metadata": {},
   "source": [
    "# Descriptive Statistics"
   ]
  },
  {
   "cell_type": "code",
   "execution_count": null,
   "id": "bd17a1bc-662a-4531-9140-c5794c454d3f",
   "metadata": {},
   "outputs": [],
   "source": [
    "summary_statistics = df.describe()\n",
    "summary_statistics"
   ]
  },
  {
   "cell_type": "code",
   "execution_count": null,
   "id": "f91228f1-7da4-4fed-9038-5fafb247db97",
   "metadata": {},
   "outputs": [],
   "source": [
    "# Correlation matrix of numerical features\n",
    "continuous_columns = df.select_dtypes(include=['number']).columns.tolist()\n",
    "print(\"\\nCorrelation matrix of continuous variables:\")\n",
    "print(df[continuous_columns].corr())"
   ]
  },
  {
   "cell_type": "markdown",
   "id": "72a44adb-c5c2-41ed-8139-7eced46e93a4",
   "metadata": {},
   "source": [
    "# Exercise"
   ]
  },
  {
   "cell_type": "markdown",
   "id": "09cd0fc8-a054-467d-bf7a-b95577b10011",
   "metadata": {},
   "source": [
    "## Exercise 1"
   ]
  },
  {
   "cell_type": "markdown",
   "id": "cc67202f-1929-4108-9644-48b89274ff08",
   "metadata": {},
   "source": [
    "Load the dataset into a Pandas DataFrame and display the first 5 rows."
   ]
  },
  {
   "cell_type": "code",
   "execution_count": null,
   "id": "aba87827-7900-49c2-848c-b47d5d970e12",
   "metadata": {
    "tags": []
   },
   "outputs": [],
   "source": [
    "import pandas as pd"
   ]
  },
  {
   "cell_type": "code",
   "execution_count": null,
   "id": "ea45150c-9ec7-4a03-ace9-f9a596bd8488",
   "metadata": {
    "tags": []
   },
   "outputs": [],
   "source": [
    "df = pd.read_excel(\"C:\\\\Users\\\\user\\\\Downloads\\\\KRA_Sample_Dataset.xlsx\")\n",
    "\n",
    "df"
   ]
  },
  {
   "cell_type": "markdown",
   "id": "abbdbb73-e59a-43a6-b5f9-fa7a64c41574",
   "metadata": {},
   "source": [
    "## Exercise 2"
   ]
  },
  {
   "cell_type": "markdown",
   "id": "3b7a79db-8e51-42b3-b3d6-d12ed3205b58",
   "metadata": {},
   "source": [
    "Filter taxpayers who have paid more than 300,000 KES in tax."
   ]
  },
  {
   "cell_type": "code",
   "execution_count": null,
   "id": "913bc53f-08af-4deb-b7fe-d94f03aac506",
   "metadata": {
    "tags": []
   },
   "outputs": [],
   "source": [
    "high_tax_payers = df[df[\"tax_paid\"] > 300000] \n",
    "high_tax_payers.head()"
   ]
  },
  {
   "cell_type": "markdown",
   "id": "e6b0684e-3682-4991-8d29-955abf15c2ed",
   "metadata": {},
   "source": [
    "## Exercise 3"
   ]
  },
  {
   "cell_type": "markdown",
   "id": "51ee025a-4b35-45b8-972a-ed7041c03785",
   "metadata": {},
   "source": [
    "Sort the dataset by the amount of tax paid in descending order."
   ]
  },
  {
   "cell_type": "code",
   "execution_count": null,
   "id": "89534737-2eab-4664-b910-f1be99706686",
   "metadata": {
    "tags": []
   },
   "outputs": [],
   "source": [
    "sorted_tax_payers = df.sort_values(by=\"tax_paid\", ascending=False)  \n",
    "sorted_tax_payers.head()"
   ]
  },
  {
   "cell_type": "markdown",
   "id": "ba8fa1c7-aa5a-4e3a-a252-284df76b77f5",
   "metadata": {},
   "source": [
    "## Exercise 4"
   ]
  },
  {
   "cell_type": "markdown",
   "id": "78ace164-7c3c-4a72-b99f-0459ac7d8dd6",
   "metadata": {},
   "source": [
    "Convert all taxpayer names to uppercase"
   ]
  },
  {
   "cell_type": "code",
   "execution_count": null,
   "id": "f31af714-0391-4033-8f56-193fc623ad1d",
   "metadata": {
    "tags": []
   },
   "outputs": [],
   "source": [
    "# Changing name to upper case\n",
    "df[\"taxpayer_name\"] = df[\"taxpayer_name\"].str.upper() \n",
    "df"
   ]
  },
  {
   "cell_type": "markdown",
   "id": "df20a91f-c1ea-417e-a8bb-898f30ba01a8",
   "metadata": {},
   "source": [
    "## Exercise 5"
   ]
  },
  {
   "cell_type": "markdown",
   "id": "833e8b52-aabe-4cb3-bbdf-e217dd659f86",
   "metadata": {},
   "source": [
    "Extract the numeric portion from the taxpayer ID (e.g., 'KE12345678' -> '12345678')."
   ]
  },
  {
   "cell_type": "code",
   "execution_count": null,
   "id": "417397c2-32b8-4a8b-8ddd-038c22a0de91",
   "metadata": {
    "tags": []
   },
   "outputs": [],
   "source": [
    "# Extract numeric part of ID\n",
    "# df = pd.read_excel(\"C:\\\\Users\\\\user\\\\Downloads\\\\KRA_Sample_Dataset.xlsx\")\n",
    "\n",
    "# df\n",
    "\n",
    "df[\"taxpayer_pin\"] = df[\"taxpayer_id\"].str.extract(r'KE(\\d+)')\n",
    "\n",
    "df[\"taxpayer_pin\"]\n"
   ]
  },
  {
   "cell_type": "markdown",
   "id": "bd3fab98-6a5a-410f-9de4-d2f9a20cd998",
   "metadata": {},
   "source": [
    "## Exercise 6"
   ]
  },
  {
   "cell_type": "markdown",
   "id": "9e5cdd01-7299-409e-b5e9-e6a8cb4a91e8",
   "metadata": {},
   "source": [
    "Count the number of taxpayers per region"
   ]
  },
  {
   "cell_type": "code",
   "execution_count": null,
   "id": "6d8c17e1-50bf-4c62-9bc9-8342c41d0633",
   "metadata": {
    "tags": []
   },
   "outputs": [],
   "source": [
    "# count taxpeyer per region\n",
    "\n",
    "taxpayer_count = df.groupby(\"region\")[\"taxpayer_id\"].count()\n",
    "taxpayer_count                                      "
   ]
  },
  {
   "cell_type": "markdown",
   "id": "beb88559-305e-4675-9b2d-bb30fd0437c0",
   "metadata": {},
   "source": [
    "## Exercise 7"
   ]
  },
  {
   "cell_type": "markdown",
   "id": "733a5421-9cd8-4c1d-bcc4-1bc6090e799d",
   "metadata": {},
   "source": [
    "Find the total tax collected per sector."
   ]
  },
  {
   "cell_type": "code",
   "execution_count": null,
   "id": "95240084-2717-44a7-b049-db753f63b8bd",
   "metadata": {
    "tags": []
   },
   "outputs": [],
   "source": [
    "Total_sector = df.groupby(\"sector\")[\"VAT_paid\"].mean() \n",
    "Total_sector"
   ]
  },
  {
   "cell_type": "markdown",
   "id": "f697df62-a96b-4018-8cdc-ac1dcee2cc1d",
   "metadata": {},
   "source": [
    "## Exercise 8"
   ]
  },
  {
   "cell_type": "markdown",
   "id": "c9aa5f4f-1893-4a15-9043-3326902dc5b9",
   "metadata": {},
   "source": [
    "Remove any duplicate taxpayer records based on the taxpayer ID"
   ]
  },
  {
   "cell_type": "raw",
   "id": "a9ff4cd9-985f-4343-bf4a-d3aabf97a8cb",
   "metadata": {},
   "source": [
    "\n",
    "\n"
   ]
  },
  {
   "cell_type": "code",
   "execution_count": null,
   "id": "81ada377-6a45-42b6-99f6-ff025b48670e",
   "metadata": {
    "tags": []
   },
   "outputs": [],
   "source": [
    "# remove duplicate to taxpayers_id\n",
    "df.drop_duplicates(subset=[\"taxpayer_id\"], keep=\"first\", inplace=True)\n",
    "df"
   ]
  },
  {
   "cell_type": "markdown",
   "id": "19357fbb-7bd8-458a-b2ad-27024057f470",
   "metadata": {},
   "source": [
    "## Exercise 9"
   ]
  },
  {
   "cell_type": "markdown",
   "id": "5f971a78-fca3-4b0f-b63e-9b19154ef2d5",
   "metadata": {},
   "source": [
    "Convert the registration date column into a proper datetime format."
   ]
  },
  {
   "cell_type": "code",
   "execution_count": null,
   "id": "89053b13-eba5-44ee-8dfa-73b3f0eb0910",
   "metadata": {
    "tags": []
   },
   "outputs": [],
   "source": [
    "df[\"registration_date\"] = pd.to_datetime(df[\"registration_date\"]) \n",
    "df"
   ]
  },
  {
   "cell_type": "code",
   "execution_count": null,
   "id": "b84624d4-1a2b-4e61-b79a-d76284028e08",
   "metadata": {},
   "outputs": [],
   "source": []
  },
  {
   "cell_type": "markdown",
   "id": "ce538955-a382-4fde-94c3-d1e3537ec286",
   "metadata": {},
   "source": [
    "# Exercise 10"
   ]
  },
  {
   "cell_type": "markdown",
   "id": "19b2610e-5e9e-443f-88a5-c3feba026c2f",
   "metadata": {},
   "source": [
    "Merge this dataset with another dataset containing taxpayer compliance status"
   ]
  },
  {
   "cell_type": "code",
   "execution_count": null,
   "id": "296d65f6-e00a-4243-914c-74f40fa546f7",
   "metadata": {
    "tags": []
   },
   "outputs": [],
   "source": [
    "sample = df[[\"taxpayer_id\", \"compliance_status\"]].sample(frac=1).reset_index(drop=True)\n",
    "\n",
    "sample\n"
   ]
  },
  {
   "cell_type": "code",
   "execution_count": null,
   "id": "5f0f5aad-e68b-44b6-a3de-fbb3cd0d6192",
   "metadata": {
    "tags": []
   },
   "outputs": [],
   "source": [
    "df_merged = pd.merge(df, sample, on=\"taxpayer_id\", how=\"inner\", suffixes=(\"_orig\", \"_compliance\"))  \n",
    "df_merged"
   ]
  },
  {
   "cell_type": "markdown",
   "id": "beb61e5d-4145-4dab-8612-fc2d33c43cf4",
   "metadata": {},
   "source": [
    "# Exercise 11"
   ]
  },
  {
   "cell_type": "markdown",
   "id": "d9c27119-5975-4fbd-ae8c-fb9419fc2372",
   "metadata": {},
   "source": [
    "Write a code that counts the unique values per categorical column"
   ]
  },
  {
   "cell_type": "code",
   "execution_count": null,
   "id": "521dff11-c18e-47b2-9115-8c22f71854c2",
   "metadata": {
    "tags": []
   },
   "outputs": [],
   "source": [
    "categorical_columns = [\"region\", \"sector\", \"taxpayer_type\", \"compliance_status\"]\n",
    "for y in categorical_columns:\n",
    "    print(f\"\\nUnique values in {y}:\")\n",
    "    print(df_merged[y].value_counts())\n",
    "    "
   ]
  },
  {
   "cell_type": "markdown",
   "id": "2f4aa8db-7903-4cc7-9e93-72f2332a6805",
   "metadata": {},
   "source": [
    "# Exercise 12"
   ]
  },
  {
   "cell_type": "markdown",
   "id": "7e822b6e-46ac-430d-9538-83748a80b361",
   "metadata": {},
   "source": [
    "Compute the correlation matrix of continuous variables"
   ]
  },
  {
   "cell_type": "code",
   "execution_count": null,
   "id": "6ff0dd89-cc89-4f6d-a15a-443a000ec2d9",
   "metadata": {
    "tags": []
   },
   "outputs": [],
   "source": [
    "continuous_columns = df_merged.select_dtypes(include=['number']).columns.tolist()\n",
    "print(\"\\nCorrelation matrix of continuous variables:\")\n",
    "print(df_merged[continuous_columns].corr())"
   ]
  },
  {
   "cell_type": "code",
   "execution_count": null,
   "id": "3f038087-1911-4319-9957-419231628d0e",
   "metadata": {},
   "outputs": [],
   "source": []
  }
 ],
 "metadata": {
  "kernelspec": {
   "display_name": "Python 3 (ipykernel)",
   "language": "python",
   "name": "python3"
  },
  "language_info": {
   "codemirror_mode": {
    "name": "ipython",
    "version": 3
   },
   "file_extension": ".py",
   "mimetype": "text/x-python",
   "name": "python",
   "nbconvert_exporter": "python",
   "pygments_lexer": "ipython3",
   "version": "3.11.5"
  }
 },
 "nbformat": 4,
 "nbformat_minor": 5
}
