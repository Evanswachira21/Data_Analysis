{
 "cells": [
  {
   "cell_type": "code",
   "execution_count": 1,
   "id": "e509b4f5-8333-4c7a-9b28-f07377b1b731",
   "metadata": {
    "tags": []
   },
   "outputs": [],
   "source": [
    "john ={\"fullname\":\"Evans Wachira\",\n",
    "       \"Age\":18,\n",
    "       \"Country\":\"Kenya\",\n",
    "       \"Marital Status\":\"Compicated\"\n",
    "       }"
   ]
  },
  {
   "cell_type": "code",
   "execution_count": null,
   "id": "235d8333-12b9-4ff1-813a-bdf18f898708",
   "metadata": {},
   "outputs": [],
   "source": []
  }
 ],
 "metadata": {
  "kernelspec": {
   "display_name": "Python 3 (ipykernel)",
   "language": "python",
   "name": "python3"
  },
  "language_info": {
   "codemirror_mode": {
    "name": "ipython",
    "version": 3
   },
   "file_extension": ".py",
   "mimetype": "text/x-python",
   "name": "python",
   "nbconvert_exporter": "python",
   "pygments_lexer": "ipython3",
   "version": "3.11.5"
  }
 },
 "nbformat": 4,
 "nbformat_minor": 5
}
